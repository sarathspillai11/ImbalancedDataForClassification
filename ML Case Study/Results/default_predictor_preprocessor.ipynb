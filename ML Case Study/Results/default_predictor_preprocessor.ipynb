{
 "cells": [
  {
   "cell_type": "code",
   "execution_count": 1,
   "id": "1839278a",
   "metadata": {},
   "outputs": [],
   "source": [
    "import sagemaker,boto3,os\n",
    "import pandas as pd\n",
    "import numpy as np\n",
    "from sagemaker import get_execution_role\n",
    "from sklearn.model_selection import train_test_split\n",
    "from sklearn.ensemble import RandomForestClassifier\n",
    "from sklearn.preprocessing import StandardScaler\n",
    "from sklearn.impute import SimpleImputer\n",
    "from sklearn.preprocessing import LabelEncoder,OneHotEncoder\n",
    "from sklearn.compose import ColumnTransformer \n",
    "from sklearn.pipeline import Pipeline\n",
    "from sklearn.model_selection import GridSearchCV"
   ]
  },
  {
   "cell_type": "code",
   "execution_count": 2,
   "id": "7d0417c6",
   "metadata": {},
   "outputs": [
    {
     "name": "stdout",
     "output_type": "stream",
     "text": [
      "arn:aws:iam::616166080248:role/service-role/AmazonSageMaker-ExecutionRole-20220105T164979\n"
     ]
    }
   ],
   "source": [
    "role = get_execution_role()\n",
    "print(role)"
   ]
  },
  {
   "cell_type": "code",
   "execution_count": 3,
   "id": "a67901a2",
   "metadata": {},
   "outputs": [
    {
     "name": "stdout",
     "output_type": "stream",
     "text": [
      "/train/dataset.csv\n",
      "dataset.csv\n",
      "default_predictor_05012022.pkl\n",
      "output/xgboost-2022-01-06-03-03-14-555/profiler-output/system/incremental/2022010603/1641438360.algo-1.json\n",
      "output/xgboost-2022-01-06-03-03-14-555/profiler-output/system/incremental/2022010603/1641438420.algo-1.json\n",
      "output/xgboost-2022-01-06-10-44-05-743/profiler-output/system/incremental/2022010610/1641465960.algo-1.json\n",
      "output/xgboost-2022-01-06-10-44-05-743/profiler-output/system/incremental/2022010610/1641466020.algo-1.json\n",
      "sagemaker/defaulter-prediction-xgboost/output/xgboost-2022-01-06-12-53-29-685/profiler-output/system/incremental/2022010612/1641473760.algo-1.json\n",
      "sagemaker/defaulter-prediction-xgboost/output/xgboost-2022-01-06-14-07-20-768/profiler-output/system/incremental/2022010614/1641478200.algo-1.json\n",
      "sagemaker/defaulter-prediction-xgboost/output/xgboost-2022-01-06-14-07-20-768/profiler-output/system/incremental/2022010614/1641478260.algo-1.json\n",
      "sagemaker/defaulter-prediction-xgboost/train/train.csv\n",
      "train.csv\n",
      "train/train.csv\n",
      "training_script.py\n",
      "validation.csv\n"
     ]
    }
   ],
   "source": [
    "conn = boto3.client('s3')\n",
    "bucket = \"ml-case-study-data\"\n",
    "contents = conn.list_objects(Bucket=bucket, Prefix=\"\")['Contents']\n",
    "for f in contents:\n",
    "    print(f['Key'])"
   ]
  },
  {
   "cell_type": "code",
   "execution_count": 4,
   "id": "ea22a58d",
   "metadata": {},
   "outputs": [],
   "source": [
    "dataFile = \"dataset.csv\"\n",
    "response = conn.get_object(Bucket=bucket, Key=dataFile)\n",
    "body = response['Body']\n",
    "full_data = pd.read_csv(body,sep=\";\",index_col=0)"
   ]
  },
  {
   "cell_type": "code",
   "execution_count": 5,
   "id": "2b1703ca",
   "metadata": {},
   "outputs": [
    {
     "data": {
      "text/plain": [
       "Index(['default', 'account_amount_added_12_24m', 'account_days_in_dc_12_24m',\n",
       "       'account_days_in_rem_12_24m', 'account_days_in_term_12_24m',\n",
       "       'account_incoming_debt_vs_paid_0_24m', 'account_status',\n",
       "       'account_worst_status_0_3m', 'account_worst_status_12_24m',\n",
       "       'account_worst_status_3_6m', 'account_worst_status_6_12m', 'age',\n",
       "       'avg_payment_span_0_12m', 'avg_payment_span_0_3m', 'merchant_category',\n",
       "       'merchant_group', 'has_paid', 'max_paid_inv_0_12m',\n",
       "       'max_paid_inv_0_24m', 'name_in_email',\n",
       "       'num_active_div_by_paid_inv_0_12m', 'num_active_inv',\n",
       "       'num_arch_dc_0_12m', 'num_arch_dc_12_24m', 'num_arch_ok_0_12m',\n",
       "       'num_arch_ok_12_24m', 'num_arch_rem_0_12m',\n",
       "       'num_arch_written_off_0_12m', 'num_arch_written_off_12_24m',\n",
       "       'num_unpaid_bills', 'status_last_archived_0_24m',\n",
       "       'status_2nd_last_archived_0_24m', 'status_3rd_last_archived_0_24m',\n",
       "       'status_max_archived_0_6_months', 'status_max_archived_0_12_months',\n",
       "       'status_max_archived_0_24_months', 'recovery_debt',\n",
       "       'sum_capital_paid_account_0_12m', 'sum_capital_paid_account_12_24m',\n",
       "       'sum_paid_inv_0_12m', 'time_hours', 'worst_status_active_inv'],\n",
       "      dtype='object')"
      ]
     },
     "execution_count": 5,
     "metadata": {},
     "output_type": "execute_result"
    }
   ],
   "source": [
    "full_data.columns"
   ]
  },
  {
   "cell_type": "code",
   "execution_count": 6,
   "id": "f2742315",
   "metadata": {},
   "outputs": [],
   "source": [
    "# Splitting the dataset for training and actual data based on the availability of the target variable\n",
    "train_data = full_data.loc[(full_data['default'] == 0.0) | (full_data['default'] == 1.0)]\n",
    "pred_data = full_data.loc[(full_data['default'] != 0.0) & (full_data['default'] != 1.0)]"
   ]
  },
  {
   "cell_type": "code",
   "execution_count": 7,
   "id": "ca75cf1b",
   "metadata": {},
   "outputs": [],
   "source": [
    "#Initialize a list of features to be dropped\n",
    "\n",
    "#UUID is a unique identifier and may not help in the actual prediction.\n",
    "#drop_features = [\"uuid\"]\n",
    "\n",
    "# dropping columns with more than 49 percentage of missing data (found during EDA)\n",
    "drop_features = ['account_incoming_debt_vs_paid_0_24m',\n",
    " 'account_status',\n",
    " 'account_worst_status_0_3m',\n",
    " 'account_worst_status_12_24m',\n",
    " 'account_worst_status_3_6m',\n",
    " 'account_worst_status_6_12m',\n",
    " 'avg_payment_span_0_3m',\n",
    " 'worst_status_active_inv']"
   ]
  },
  {
   "cell_type": "code",
   "execution_count": 8,
   "id": "f8c5839f",
   "metadata": {},
   "outputs": [],
   "source": [
    "# categorical features as mentioned in the data dictionary available in the case study document\n",
    "\n",
    "categorical_features = [\"account_status\",\"account_worst_status_0_3m\",\"account_worst_status_12_24m\",\"account_worst_status_3_6m\",\n",
    "                       \"account_worst_status_6_12m\",\"merchant_category\",\"merchant_group\",\"has_paid\",\"name_in_email\",\"status_last_archived_0_24m\",\n",
    "                       \"status_2nd_last_archived_0_24m\",\"status_3rd_last_archived_0_24m\",\"status_max_archived_0_6_months\",\"status_max_archived_0_12_months\",\n",
    "                       \"status_max_archived_0_24_months\",\"worst_status_active_inv\"]"
   ]
  },
  {
   "cell_type": "code",
   "execution_count": 9,
   "id": "85622b19",
   "metadata": {},
   "outputs": [],
   "source": [
    "# columns with missing data in the training set, all of them found to be numerical columns as per data dictionary\n",
    "\n",
    "missing_data_columns = ['account_days_in_dc_12_24m', 'account_days_in_rem_12_24m',\n",
    "       'account_days_in_term_12_24m', 'avg_payment_span_0_12m',\n",
    "       'num_active_div_by_paid_inv_0_12m', 'num_arch_written_off_0_12m',\n",
    "       'num_arch_written_off_12_24m']"
   ]
  },
  {
   "cell_type": "code",
   "execution_count": 11,
   "id": "42dc7a55",
   "metadata": {},
   "outputs": [],
   "source": [
    "X = train_data.drop(['default'], axis=1)\n",
    "y = train_data['default']\n",
    "X_train, X_test, y_train, y_test = train_test_split(X, y, test_size=0.30, random_state=7)"
   ]
  },
  {
   "cell_type": "code",
   "execution_count": 12,
   "id": "d7bd90f6",
   "metadata": {},
   "outputs": [],
   "source": [
    "missing_data_transformer = Pipeline(steps=[\n",
    "                                     ('meanimputer', SimpleImputer(strategy='mean')),\n",
    "                                     ('stdscaler', StandardScaler())\n",
    "                                     ])\n",
    "\n",
    "categorical_transformer = Pipeline(steps=[\n",
    "                                         ('onehotenc', OneHotEncoder(handle_unknown='ignore'))\n",
    "                                         ])\n",
    "column_transformer = ColumnTransformer(transformers=[('drop_columns', 'drop', drop_features),\n",
    "                                                   ('numeric_processing',missing_data_transformer, missing_data_columns),\n",
    "                                                    ('categorical_processing', categorical_transformer, categorical_features)\n",
    "                                                  ], remainder='drop')"
   ]
  },
  {
   "cell_type": "code",
   "execution_count": 17,
   "id": "a8cad1f3",
   "metadata": {},
   "outputs": [],
   "source": [
    "from sklearn.metrics import confusion_matrix,classification_report\n",
    "from sklearn.metrics import accuracy_score\n",
    "import matplotlib.pyplot as plt\n",
    "import seaborn as sns\n",
    "%matplotlib inline\n",
    "def confusion_heatMap(confusionMatrix):\n",
    "  class_names=[0,1]\n",
    "  fig, ax = plt.subplots()\n",
    "  tick_marks = np.arange(len(class_names))\n",
    "  plt.xticks(tick_marks, class_names)\n",
    "  plt.yticks(tick_marks, class_names)\n",
    "  sns.heatmap(pd.DataFrame(confusionMatrix), annot=True, cmap=\"YlGnBu\" ,fmt='g')\n",
    "  ax.xaxis.set_label_position(\"top\")\n",
    "  plt.tight_layout()\n",
    "  plt.title('Confusion matrix', y=1.1)\n",
    "  plt.ylabel('Actual label')\n",
    "  plt.xlabel('Predicted label')"
   ]
  },
  {
   "cell_type": "code",
   "execution_count": 22,
   "id": "b323f842",
   "metadata": {},
   "outputs": [
    {
     "data": {
      "text/plain": [
       "Pipeline(steps=[('transform_column',\n",
       "                 ColumnTransformer(transformers=[('drop_columns', 'drop',\n",
       "                                                  ['account_incoming_debt_vs_paid_0_24m',\n",
       "                                                   'account_status',\n",
       "                                                   'account_worst_status_0_3m',\n",
       "                                                   'account_worst_status_12_24m',\n",
       "                                                   'account_worst_status_3_6m',\n",
       "                                                   'account_worst_status_6_12m',\n",
       "                                                   'avg_payment_span_0_3m',\n",
       "                                                   'worst_status_active_inv']),\n",
       "                                                 ('numeric_processing',\n",
       "                                                  Pipeline(steps...\n",
       "                                                   'account_worst_status_12_24m',\n",
       "                                                   'account_worst_status_3_6m',\n",
       "                                                   'account_worst_status_6_12m',\n",
       "                                                   'merchant_category',\n",
       "                                                   'merchant_group', 'has_paid',\n",
       "                                                   'name_in_email',\n",
       "                                                   'status_last_archived_0_24m',\n",
       "                                                   'status_2nd_last_archived_0_24m',\n",
       "                                                   'status_3rd_last_archived_0_24m',\n",
       "                                                   'status_max_archived_0_6_months',\n",
       "                                                   'status_max_archived_0_12_months',\n",
       "                                                   'status_max_archived_0_24_months',\n",
       "                                                   'worst_status_active_inv'])]))])"
      ]
     },
     "execution_count": 22,
     "metadata": {},
     "output_type": "execute_result"
    }
   ],
   "source": [
    "preprocessor_pipeline = Pipeline([\n",
    "                     ('transform_column', column_transformer),\n",
    "                    ])\n",
    "preprocessor_pipeline.fit(X)"
   ]
  },
  {
   "cell_type": "code",
   "execution_count": 24,
   "id": "2c9dbdfd",
   "metadata": {},
   "outputs": [
    {
     "data": {
      "text/plain": [
       "(89976, 41)"
      ]
     },
     "execution_count": 24,
     "metadata": {},
     "output_type": "execute_result"
    }
   ],
   "source": [
    "X.shape"
   ]
  },
  {
   "cell_type": "code",
   "execution_count": 25,
   "id": "086fba0e",
   "metadata": {},
   "outputs": [
    {
     "data": {
      "text/plain": [
       "Index(['account_amount_added_12_24m', 'account_days_in_dc_12_24m',\n",
       "       'account_days_in_rem_12_24m', 'account_days_in_term_12_24m',\n",
       "       'account_incoming_debt_vs_paid_0_24m', 'account_status',\n",
       "       'account_worst_status_0_3m', 'account_worst_status_12_24m',\n",
       "       'account_worst_status_3_6m', 'account_worst_status_6_12m', 'age',\n",
       "       'avg_payment_span_0_12m', 'avg_payment_span_0_3m', 'merchant_category',\n",
       "       'merchant_group', 'has_paid', 'max_paid_inv_0_12m',\n",
       "       'max_paid_inv_0_24m', 'name_in_email',\n",
       "       'num_active_div_by_paid_inv_0_12m', 'num_active_inv',\n",
       "       'num_arch_dc_0_12m', 'num_arch_dc_12_24m', 'num_arch_ok_0_12m',\n",
       "       'num_arch_ok_12_24m', 'num_arch_rem_0_12m',\n",
       "       'num_arch_written_off_0_12m', 'num_arch_written_off_12_24m',\n",
       "       'num_unpaid_bills', 'status_last_archived_0_24m',\n",
       "       'status_2nd_last_archived_0_24m', 'status_3rd_last_archived_0_24m',\n",
       "       'status_max_archived_0_6_months', 'status_max_archived_0_12_months',\n",
       "       'status_max_archived_0_24_months', 'recovery_debt',\n",
       "       'sum_capital_paid_account_0_12m', 'sum_capital_paid_account_12_24m',\n",
       "       'sum_paid_inv_0_12m', 'time_hours', 'worst_status_active_inv'],\n",
       "      dtype='object')"
      ]
     },
     "execution_count": 25,
     "metadata": {},
     "output_type": "execute_result"
    }
   ],
   "source": [
    "X.columns"
   ]
  },
  {
   "cell_type": "code",
   "execution_count": 31,
   "id": "181dfbaf",
   "metadata": {},
   "outputs": [
    {
     "data": {
      "text/plain": [
       "<89976x144 sparse matrix of type '<class 'numpy.float64'>'\n",
       "\twith 1983321 stored elements in Compressed Sparse Row format>"
      ]
     },
     "execution_count": 31,
     "metadata": {},
     "output_type": "execute_result"
    }
   ],
   "source": [
    "preprocessor_pipeline.transform(X)"
   ]
  },
  {
   "cell_type": "code",
   "execution_count": 23,
   "id": "24611755",
   "metadata": {},
   "outputs": [
    {
     "data": {
      "text/plain": [
       "['preprocessor_pipeline.pkl']"
      ]
     },
     "execution_count": 23,
     "metadata": {},
     "output_type": "execute_result"
    }
   ],
   "source": [
    "import joblib\n",
    "joblib.dump(preprocessor_pipeline,\"preprocessor_pipeline.pkl\")"
   ]
  }
 ],
 "metadata": {
  "kernelspec": {
   "display_name": "Python 3 (ipykernel)",
   "language": "python",
   "name": "python3"
  },
  "language_info": {
   "codemirror_mode": {
    "name": "ipython",
    "version": 3
   },
   "file_extension": ".py",
   "mimetype": "text/x-python",
   "name": "python",
   "nbconvert_exporter": "python",
   "pygments_lexer": "ipython3",
   "version": "3.7.11"
  }
 },
 "nbformat": 4,
 "nbformat_minor": 5
}
