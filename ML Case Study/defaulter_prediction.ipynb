{
 "cells": [
  {
   "cell_type": "code",
   "execution_count": 1,
   "metadata": {
    "id": "kKA9E8ma0TQk"
   },
   "outputs": [],
   "source": [
    "# from google.colab import files\n",
    "# uploaded = files.upload()"
   ]
  },
  {
   "cell_type": "code",
   "execution_count": 2,
   "metadata": {
    "colab": {
     "base_uri": "https://localhost:8080/"
    },
    "id": "6qzNDGGVyKnp",
    "outputId": "88f3cb83-920b-4926-83ba-1b68bdf12582"
   },
   "outputs": [],
   "source": [
    "# from google.colab import drive\n",
    "# drive.mount('/content/drive')"
   ]
  },
  {
   "cell_type": "code",
   "execution_count": 3,
   "metadata": {
    "id": "yaLuZkWY1-xw"
   },
   "outputs": [],
   "source": [
    "import pandas as pd\n",
    "import numpy as np"
   ]
  },
  {
   "cell_type": "code",
   "execution_count": 4,
   "metadata": {
    "id": "Rh8H9rrizYXE"
   },
   "outputs": [],
   "source": [
    "# import os\n",
    "# os.chdir(\"drive/My Drive/MLCaseStudy\")"
   ]
  },
  {
   "cell_type": "code",
   "execution_count": 5,
   "metadata": {
    "colab": {
     "base_uri": "https://localhost:8080/"
    },
    "id": "n6cFG1nCzeSt",
    "outputId": "c096387e-4143-4cf7-bc62-a3ce5a1431d2"
   },
   "outputs": [
    {
     "name": "stderr",
     "output_type": "stream",
     "text": [
      "'ls' is not recognized as an internal or external command,\n",
      "operable program or batch file.\n"
     ]
    }
   ],
   "source": [
    "!ls"
   ]
  },
  {
   "cell_type": "code",
   "execution_count": 6,
   "metadata": {
    "id": "LyZOdjfc3L0G"
   },
   "outputs": [],
   "source": [
    "full_data = pd.read_csv(r\"dataset.csv\",sep=\";\",nrows=1000)"
   ]
  },
  {
   "cell_type": "code",
   "execution_count": 7,
   "metadata": {
    "id": "v51-3EsSENDP"
   },
   "outputs": [],
   "source": [
    "train_data = full_data.loc[(full_data['default'] == 0.0) | (full_data['default'] == 1.0)]\n",
    "pred_data = full_data.loc[(full_data['default'] != 0.0) & (full_data['default'] != 1.0)]"
   ]
  },
  {
   "cell_type": "code",
   "execution_count": 8,
   "metadata": {
    "colab": {
     "base_uri": "https://localhost:8080/",
     "height": 531
    },
    "id": "SLQDLWaP3PvY",
    "outputId": "ad34a8c0-a0be-4a5f-a7af-1ec9d61383e4"
   },
   "outputs": [
    {
     "data": {
      "text/html": [
       "<div>\n",
       "<style scoped>\n",
       "    .dataframe tbody tr th:only-of-type {\n",
       "        vertical-align: middle;\n",
       "    }\n",
       "\n",
       "    .dataframe tbody tr th {\n",
       "        vertical-align: top;\n",
       "    }\n",
       "\n",
       "    .dataframe thead th {\n",
       "        text-align: right;\n",
       "    }\n",
       "</style>\n",
       "<table border=\"1\" class=\"dataframe\">\n",
       "  <thead>\n",
       "    <tr style=\"text-align: right;\">\n",
       "      <th></th>\n",
       "      <th>uuid</th>\n",
       "      <th>default</th>\n",
       "      <th>account_amount_added_12_24m</th>\n",
       "      <th>account_days_in_dc_12_24m</th>\n",
       "      <th>account_days_in_rem_12_24m</th>\n",
       "      <th>account_days_in_term_12_24m</th>\n",
       "      <th>account_incoming_debt_vs_paid_0_24m</th>\n",
       "      <th>account_status</th>\n",
       "      <th>account_worst_status_0_3m</th>\n",
       "      <th>account_worst_status_12_24m</th>\n",
       "      <th>...</th>\n",
       "      <th>status_3rd_last_archived_0_24m</th>\n",
       "      <th>status_max_archived_0_6_months</th>\n",
       "      <th>status_max_archived_0_12_months</th>\n",
       "      <th>status_max_archived_0_24_months</th>\n",
       "      <th>recovery_debt</th>\n",
       "      <th>sum_capital_paid_account_0_12m</th>\n",
       "      <th>sum_capital_paid_account_12_24m</th>\n",
       "      <th>sum_paid_inv_0_12m</th>\n",
       "      <th>time_hours</th>\n",
       "      <th>worst_status_active_inv</th>\n",
       "    </tr>\n",
       "  </thead>\n",
       "  <tbody>\n",
       "    <tr>\n",
       "      <th>0</th>\n",
       "      <td>63f69b2c-8b1c-4740-b78d-52ed9a4515ac</td>\n",
       "      <td>0</td>\n",
       "      <td>0</td>\n",
       "      <td>0.0</td>\n",
       "      <td>0.0</td>\n",
       "      <td>0.0</td>\n",
       "      <td>0.0</td>\n",
       "      <td>1.0</td>\n",
       "      <td>1.0</td>\n",
       "      <td>NaN</td>\n",
       "      <td>...</td>\n",
       "      <td>1</td>\n",
       "      <td>1</td>\n",
       "      <td>1</td>\n",
       "      <td>1</td>\n",
       "      <td>0</td>\n",
       "      <td>0</td>\n",
       "      <td>0</td>\n",
       "      <td>178839</td>\n",
       "      <td>9.653333</td>\n",
       "      <td>1.0</td>\n",
       "    </tr>\n",
       "    <tr>\n",
       "      <th>1</th>\n",
       "      <td>0e961183-8c15-4470-9a5e-07a1bd207661</td>\n",
       "      <td>0</td>\n",
       "      <td>0</td>\n",
       "      <td>0.0</td>\n",
       "      <td>0.0</td>\n",
       "      <td>0.0</td>\n",
       "      <td>NaN</td>\n",
       "      <td>1.0</td>\n",
       "      <td>1.0</td>\n",
       "      <td>1.0</td>\n",
       "      <td>...</td>\n",
       "      <td>1</td>\n",
       "      <td>1</td>\n",
       "      <td>2</td>\n",
       "      <td>2</td>\n",
       "      <td>0</td>\n",
       "      <td>0</td>\n",
       "      <td>0</td>\n",
       "      <td>49014</td>\n",
       "      <td>13.181389</td>\n",
       "      <td>NaN</td>\n",
       "    </tr>\n",
       "    <tr>\n",
       "      <th>2</th>\n",
       "      <td>d8edaae6-4368-44e0-941e-8328f203e64e</td>\n",
       "      <td>0</td>\n",
       "      <td>0</td>\n",
       "      <td>0.0</td>\n",
       "      <td>0.0</td>\n",
       "      <td>0.0</td>\n",
       "      <td>NaN</td>\n",
       "      <td>NaN</td>\n",
       "      <td>NaN</td>\n",
       "      <td>NaN</td>\n",
       "      <td>...</td>\n",
       "      <td>1</td>\n",
       "      <td>1</td>\n",
       "      <td>2</td>\n",
       "      <td>2</td>\n",
       "      <td>0</td>\n",
       "      <td>0</td>\n",
       "      <td>0</td>\n",
       "      <td>124839</td>\n",
       "      <td>11.561944</td>\n",
       "      <td>1.0</td>\n",
       "    </tr>\n",
       "    <tr>\n",
       "      <th>3</th>\n",
       "      <td>0095dfb6-a886-4e2a-b056-15ef45fdb0ef</td>\n",
       "      <td>0</td>\n",
       "      <td>0</td>\n",
       "      <td>NaN</td>\n",
       "      <td>NaN</td>\n",
       "      <td>NaN</td>\n",
       "      <td>NaN</td>\n",
       "      <td>NaN</td>\n",
       "      <td>NaN</td>\n",
       "      <td>NaN</td>\n",
       "      <td>...</td>\n",
       "      <td>1</td>\n",
       "      <td>1</td>\n",
       "      <td>1</td>\n",
       "      <td>1</td>\n",
       "      <td>0</td>\n",
       "      <td>0</td>\n",
       "      <td>0</td>\n",
       "      <td>324676</td>\n",
       "      <td>15.751111</td>\n",
       "      <td>1.0</td>\n",
       "    </tr>\n",
       "    <tr>\n",
       "      <th>4</th>\n",
       "      <td>c8f8b835-5647-4506-bf15-49105d8af30b</td>\n",
       "      <td>0</td>\n",
       "      <td>0</td>\n",
       "      <td>0.0</td>\n",
       "      <td>0.0</td>\n",
       "      <td>0.0</td>\n",
       "      <td>NaN</td>\n",
       "      <td>NaN</td>\n",
       "      <td>NaN</td>\n",
       "      <td>NaN</td>\n",
       "      <td>...</td>\n",
       "      <td>0</td>\n",
       "      <td>1</td>\n",
       "      <td>1</td>\n",
       "      <td>1</td>\n",
       "      <td>0</td>\n",
       "      <td>0</td>\n",
       "      <td>0</td>\n",
       "      <td>7100</td>\n",
       "      <td>12.698611</td>\n",
       "      <td>NaN</td>\n",
       "    </tr>\n",
       "  </tbody>\n",
       "</table>\n",
       "<p>5 rows × 43 columns</p>\n",
       "</div>"
      ],
      "text/plain": [
       "                                   uuid  default  account_amount_added_12_24m  \\\n",
       "0  63f69b2c-8b1c-4740-b78d-52ed9a4515ac        0                            0   \n",
       "1  0e961183-8c15-4470-9a5e-07a1bd207661        0                            0   \n",
       "2  d8edaae6-4368-44e0-941e-8328f203e64e        0                            0   \n",
       "3  0095dfb6-a886-4e2a-b056-15ef45fdb0ef        0                            0   \n",
       "4  c8f8b835-5647-4506-bf15-49105d8af30b        0                            0   \n",
       "\n",
       "   account_days_in_dc_12_24m  account_days_in_rem_12_24m  \\\n",
       "0                        0.0                         0.0   \n",
       "1                        0.0                         0.0   \n",
       "2                        0.0                         0.0   \n",
       "3                        NaN                         NaN   \n",
       "4                        0.0                         0.0   \n",
       "\n",
       "   account_days_in_term_12_24m  account_incoming_debt_vs_paid_0_24m  \\\n",
       "0                          0.0                                  0.0   \n",
       "1                          0.0                                  NaN   \n",
       "2                          0.0                                  NaN   \n",
       "3                          NaN                                  NaN   \n",
       "4                          0.0                                  NaN   \n",
       "\n",
       "   account_status  account_worst_status_0_3m  account_worst_status_12_24m  \\\n",
       "0             1.0                        1.0                          NaN   \n",
       "1             1.0                        1.0                          1.0   \n",
       "2             NaN                        NaN                          NaN   \n",
       "3             NaN                        NaN                          NaN   \n",
       "4             NaN                        NaN                          NaN   \n",
       "\n",
       "   ...  status_3rd_last_archived_0_24m  status_max_archived_0_6_months  \\\n",
       "0  ...                               1                               1   \n",
       "1  ...                               1                               1   \n",
       "2  ...                               1                               1   \n",
       "3  ...                               1                               1   \n",
       "4  ...                               0                               1   \n",
       "\n",
       "   status_max_archived_0_12_months  status_max_archived_0_24_months  \\\n",
       "0                                1                                1   \n",
       "1                                2                                2   \n",
       "2                                2                                2   \n",
       "3                                1                                1   \n",
       "4                                1                                1   \n",
       "\n",
       "   recovery_debt sum_capital_paid_account_0_12m  \\\n",
       "0              0                              0   \n",
       "1              0                              0   \n",
       "2              0                              0   \n",
       "3              0                              0   \n",
       "4              0                              0   \n",
       "\n",
       "  sum_capital_paid_account_12_24m  sum_paid_inv_0_12m  time_hours  \\\n",
       "0                               0              178839    9.653333   \n",
       "1                               0               49014   13.181389   \n",
       "2                               0              124839   11.561944   \n",
       "3                               0              324676   15.751111   \n",
       "4                               0                7100   12.698611   \n",
       "\n",
       "   worst_status_active_inv  \n",
       "0                      1.0  \n",
       "1                      NaN  \n",
       "2                      1.0  \n",
       "3                      1.0  \n",
       "4                      NaN  \n",
       "\n",
       "[5 rows x 43 columns]"
      ]
     },
     "execution_count": 8,
     "metadata": {},
     "output_type": "execute_result"
    }
   ],
   "source": [
    "train_data.head()"
   ]
  },
  {
   "cell_type": "code",
   "execution_count": 9,
   "metadata": {
    "colab": {
     "base_uri": "https://localhost:8080/"
    },
    "id": "ecpPnop13VSW",
    "outputId": "a1bbe27d-ad08-4034-b6ab-41f5eb743945"
   },
   "outputs": [
    {
     "data": {
      "text/plain": [
       "(1000, 43)"
      ]
     },
     "execution_count": 9,
     "metadata": {},
     "output_type": "execute_result"
    }
   ],
   "source": [
    "train_data.shape"
   ]
  },
  {
   "cell_type": "code",
   "execution_count": 10,
   "metadata": {
    "colab": {
     "base_uri": "https://localhost:8080/"
    },
    "id": "B2El5gnuFNyB",
    "outputId": "5d6f2385-1667-4ffa-d0dc-7a0f3b64ff33"
   },
   "outputs": [
    {
     "data": {
      "text/plain": [
       "(0, 43)"
      ]
     },
     "execution_count": 10,
     "metadata": {},
     "output_type": "execute_result"
    }
   ],
   "source": [
    "pred_data.shape"
   ]
  },
  {
   "cell_type": "code",
   "execution_count": 11,
   "metadata": {
    "colab": {
     "base_uri": "https://localhost:8080/",
     "height": 364
    },
    "id": "rgjQB-Wb3d3h",
    "outputId": "c5cd435d-19a0-4aee-94c6-4736b2c05d96"
   },
   "outputs": [
    {
     "data": {
      "text/html": [
       "<div>\n",
       "<style scoped>\n",
       "    .dataframe tbody tr th:only-of-type {\n",
       "        vertical-align: middle;\n",
       "    }\n",
       "\n",
       "    .dataframe tbody tr th {\n",
       "        vertical-align: top;\n",
       "    }\n",
       "\n",
       "    .dataframe thead th {\n",
       "        text-align: right;\n",
       "    }\n",
       "</style>\n",
       "<table border=\"1\" class=\"dataframe\">\n",
       "  <thead>\n",
       "    <tr style=\"text-align: right;\">\n",
       "      <th></th>\n",
       "      <th>default</th>\n",
       "      <th>account_amount_added_12_24m</th>\n",
       "      <th>account_days_in_dc_12_24m</th>\n",
       "      <th>account_days_in_rem_12_24m</th>\n",
       "      <th>account_days_in_term_12_24m</th>\n",
       "      <th>account_incoming_debt_vs_paid_0_24m</th>\n",
       "      <th>account_status</th>\n",
       "      <th>account_worst_status_0_3m</th>\n",
       "      <th>account_worst_status_12_24m</th>\n",
       "      <th>account_worst_status_3_6m</th>\n",
       "      <th>...</th>\n",
       "      <th>status_3rd_last_archived_0_24m</th>\n",
       "      <th>status_max_archived_0_6_months</th>\n",
       "      <th>status_max_archived_0_12_months</th>\n",
       "      <th>status_max_archived_0_24_months</th>\n",
       "      <th>recovery_debt</th>\n",
       "      <th>sum_capital_paid_account_0_12m</th>\n",
       "      <th>sum_capital_paid_account_12_24m</th>\n",
       "      <th>sum_paid_inv_0_12m</th>\n",
       "      <th>time_hours</th>\n",
       "      <th>worst_status_active_inv</th>\n",
       "    </tr>\n",
       "  </thead>\n",
       "  <tbody>\n",
       "    <tr>\n",
       "      <th>count</th>\n",
       "      <td>1000.000000</td>\n",
       "      <td>1000.000000</td>\n",
       "      <td>865.000000</td>\n",
       "      <td>865.000000</td>\n",
       "      <td>865.000000</td>\n",
       "      <td>381.000000</td>\n",
       "      <td>425.000000</td>\n",
       "      <td>425.000000</td>\n",
       "      <td>312.000000</td>\n",
       "      <td>395.000000</td>\n",
       "      <td>...</td>\n",
       "      <td>1000.000000</td>\n",
       "      <td>1000.000000</td>\n",
       "      <td>1000.000000</td>\n",
       "      <td>1000.00000</td>\n",
       "      <td>1000.0</td>\n",
       "      <td>1000.000000</td>\n",
       "      <td>1000.000000</td>\n",
       "      <td>1000.000000</td>\n",
       "      <td>1000.000000</td>\n",
       "      <td>296.000000</td>\n",
       "    </tr>\n",
       "    <tr>\n",
       "      <th>mean</th>\n",
       "      <td>0.014000</td>\n",
       "      <td>9898.125000</td>\n",
       "      <td>0.234682</td>\n",
       "      <td>5.387283</td>\n",
       "      <td>0.412717</td>\n",
       "      <td>0.811919</td>\n",
       "      <td>1.035294</td>\n",
       "      <td>1.145882</td>\n",
       "      <td>1.362179</td>\n",
       "      <td>1.189873</td>\n",
       "      <td>...</td>\n",
       "      <td>0.753000</td>\n",
       "      <td>0.818000</td>\n",
       "      <td>1.069000</td>\n",
       "      <td>1.22200</td>\n",
       "      <td>0.0</td>\n",
       "      <td>9167.188000</td>\n",
       "      <td>5183.776000</td>\n",
       "      <td>41341.074000</td>\n",
       "      <td>15.342219</td>\n",
       "      <td>1.138514</td>\n",
       "    </tr>\n",
       "    <tr>\n",
       "      <th>std</th>\n",
       "      <td>0.117549</td>\n",
       "      <td>25395.554089</td>\n",
       "      <td>4.949205</td>\n",
       "      <td>24.195272</td>\n",
       "      <td>3.494980</td>\n",
       "      <td>2.858786</td>\n",
       "      <td>0.184740</td>\n",
       "      <td>0.379160</td>\n",
       "      <td>0.605637</td>\n",
       "      <td>0.458312</td>\n",
       "      <td>...</td>\n",
       "      <td>0.595269</td>\n",
       "      <td>0.683625</td>\n",
       "      <td>0.764738</td>\n",
       "      <td>0.81816</td>\n",
       "      <td>0.0</td>\n",
       "      <td>21663.881341</td>\n",
       "      <td>14058.537222</td>\n",
       "      <td>69218.454542</td>\n",
       "      <td>5.002044</td>\n",
       "      <td>0.346023</td>\n",
       "    </tr>\n",
       "    <tr>\n",
       "      <th>min</th>\n",
       "      <td>0.000000</td>\n",
       "      <td>0.000000</td>\n",
       "      <td>0.000000</td>\n",
       "      <td>0.000000</td>\n",
       "      <td>0.000000</td>\n",
       "      <td>0.000000</td>\n",
       "      <td>1.000000</td>\n",
       "      <td>1.000000</td>\n",
       "      <td>1.000000</td>\n",
       "      <td>1.000000</td>\n",
       "      <td>...</td>\n",
       "      <td>0.000000</td>\n",
       "      <td>0.000000</td>\n",
       "      <td>0.000000</td>\n",
       "      <td>0.00000</td>\n",
       "      <td>0.0</td>\n",
       "      <td>0.000000</td>\n",
       "      <td>0.000000</td>\n",
       "      <td>0.000000</td>\n",
       "      <td>0.060000</td>\n",
       "      <td>1.000000</td>\n",
       "    </tr>\n",
       "    <tr>\n",
       "      <th>25%</th>\n",
       "      <td>0.000000</td>\n",
       "      <td>0.000000</td>\n",
       "      <td>0.000000</td>\n",
       "      <td>0.000000</td>\n",
       "      <td>0.000000</td>\n",
       "      <td>0.000000</td>\n",
       "      <td>1.000000</td>\n",
       "      <td>1.000000</td>\n",
       "      <td>1.000000</td>\n",
       "      <td>1.000000</td>\n",
       "      <td>...</td>\n",
       "      <td>0.000000</td>\n",
       "      <td>0.000000</td>\n",
       "      <td>1.000000</td>\n",
       "      <td>1.00000</td>\n",
       "      <td>0.0</td>\n",
       "      <td>0.000000</td>\n",
       "      <td>0.000000</td>\n",
       "      <td>3649.500000</td>\n",
       "      <td>11.712778</td>\n",
       "      <td>1.000000</td>\n",
       "    </tr>\n",
       "    <tr>\n",
       "      <th>50%</th>\n",
       "      <td>0.000000</td>\n",
       "      <td>0.000000</td>\n",
       "      <td>0.000000</td>\n",
       "      <td>0.000000</td>\n",
       "      <td>0.000000</td>\n",
       "      <td>0.143881</td>\n",
       "      <td>1.000000</td>\n",
       "      <td>1.000000</td>\n",
       "      <td>1.000000</td>\n",
       "      <td>1.000000</td>\n",
       "      <td>...</td>\n",
       "      <td>1.000000</td>\n",
       "      <td>1.000000</td>\n",
       "      <td>1.000000</td>\n",
       "      <td>1.00000</td>\n",
       "      <td>0.0</td>\n",
       "      <td>0.000000</td>\n",
       "      <td>0.000000</td>\n",
       "      <td>16341.500000</td>\n",
       "      <td>15.698611</td>\n",
       "      <td>1.000000</td>\n",
       "    </tr>\n",
       "    <tr>\n",
       "      <th>75%</th>\n",
       "      <td>0.000000</td>\n",
       "      <td>2888.500000</td>\n",
       "      <td>0.000000</td>\n",
       "      <td>0.000000</td>\n",
       "      <td>0.000000</td>\n",
       "      <td>0.645204</td>\n",
       "      <td>1.000000</td>\n",
       "      <td>1.000000</td>\n",
       "      <td>2.000000</td>\n",
       "      <td>1.000000</td>\n",
       "      <td>...</td>\n",
       "      <td>1.000000</td>\n",
       "      <td>1.000000</td>\n",
       "      <td>2.000000</td>\n",
       "      <td>2.00000</td>\n",
       "      <td>0.0</td>\n",
       "      <td>6785.500000</td>\n",
       "      <td>0.000000</td>\n",
       "      <td>47048.250000</td>\n",
       "      <td>19.441944</td>\n",
       "      <td>1.000000</td>\n",
       "    </tr>\n",
       "    <tr>\n",
       "      <th>max</th>\n",
       "      <td>1.000000</td>\n",
       "      <td>226370.000000</td>\n",
       "      <td>131.000000</td>\n",
       "      <td>365.000000</td>\n",
       "      <td>50.000000</td>\n",
       "      <td>39.507874</td>\n",
       "      <td>2.000000</td>\n",
       "      <td>3.000000</td>\n",
       "      <td>4.000000</td>\n",
       "      <td>4.000000</td>\n",
       "      <td>...</td>\n",
       "      <td>3.000000</td>\n",
       "      <td>3.000000</td>\n",
       "      <td>3.000000</td>\n",
       "      <td>3.00000</td>\n",
       "      <td>0.0</td>\n",
       "      <td>222749.000000</td>\n",
       "      <td>110631.000000</td>\n",
       "      <td>648207.000000</td>\n",
       "      <td>23.876667</td>\n",
       "      <td>2.000000</td>\n",
       "    </tr>\n",
       "  </tbody>\n",
       "</table>\n",
       "<p>8 rows × 38 columns</p>\n",
       "</div>"
      ],
      "text/plain": [
       "           default  account_amount_added_12_24m  account_days_in_dc_12_24m  \\\n",
       "count  1000.000000                  1000.000000                 865.000000   \n",
       "mean      0.014000                  9898.125000                   0.234682   \n",
       "std       0.117549                 25395.554089                   4.949205   \n",
       "min       0.000000                     0.000000                   0.000000   \n",
       "25%       0.000000                     0.000000                   0.000000   \n",
       "50%       0.000000                     0.000000                   0.000000   \n",
       "75%       0.000000                  2888.500000                   0.000000   \n",
       "max       1.000000                226370.000000                 131.000000   \n",
       "\n",
       "       account_days_in_rem_12_24m  account_days_in_term_12_24m  \\\n",
       "count                  865.000000                   865.000000   \n",
       "mean                     5.387283                     0.412717   \n",
       "std                     24.195272                     3.494980   \n",
       "min                      0.000000                     0.000000   \n",
       "25%                      0.000000                     0.000000   \n",
       "50%                      0.000000                     0.000000   \n",
       "75%                      0.000000                     0.000000   \n",
       "max                    365.000000                    50.000000   \n",
       "\n",
       "       account_incoming_debt_vs_paid_0_24m  account_status  \\\n",
       "count                           381.000000      425.000000   \n",
       "mean                              0.811919        1.035294   \n",
       "std                               2.858786        0.184740   \n",
       "min                               0.000000        1.000000   \n",
       "25%                               0.000000        1.000000   \n",
       "50%                               0.143881        1.000000   \n",
       "75%                               0.645204        1.000000   \n",
       "max                              39.507874        2.000000   \n",
       "\n",
       "       account_worst_status_0_3m  account_worst_status_12_24m  \\\n",
       "count                 425.000000                   312.000000   \n",
       "mean                    1.145882                     1.362179   \n",
       "std                     0.379160                     0.605637   \n",
       "min                     1.000000                     1.000000   \n",
       "25%                     1.000000                     1.000000   \n",
       "50%                     1.000000                     1.000000   \n",
       "75%                     1.000000                     2.000000   \n",
       "max                     3.000000                     4.000000   \n",
       "\n",
       "       account_worst_status_3_6m  ...  status_3rd_last_archived_0_24m  \\\n",
       "count                 395.000000  ...                     1000.000000   \n",
       "mean                    1.189873  ...                        0.753000   \n",
       "std                     0.458312  ...                        0.595269   \n",
       "min                     1.000000  ...                        0.000000   \n",
       "25%                     1.000000  ...                        0.000000   \n",
       "50%                     1.000000  ...                        1.000000   \n",
       "75%                     1.000000  ...                        1.000000   \n",
       "max                     4.000000  ...                        3.000000   \n",
       "\n",
       "       status_max_archived_0_6_months  status_max_archived_0_12_months  \\\n",
       "count                     1000.000000                      1000.000000   \n",
       "mean                         0.818000                         1.069000   \n",
       "std                          0.683625                         0.764738   \n",
       "min                          0.000000                         0.000000   \n",
       "25%                          0.000000                         1.000000   \n",
       "50%                          1.000000                         1.000000   \n",
       "75%                          1.000000                         2.000000   \n",
       "max                          3.000000                         3.000000   \n",
       "\n",
       "       status_max_archived_0_24_months  recovery_debt  \\\n",
       "count                       1000.00000         1000.0   \n",
       "mean                           1.22200            0.0   \n",
       "std                            0.81816            0.0   \n",
       "min                            0.00000            0.0   \n",
       "25%                            1.00000            0.0   \n",
       "50%                            1.00000            0.0   \n",
       "75%                            2.00000            0.0   \n",
       "max                            3.00000            0.0   \n",
       "\n",
       "       sum_capital_paid_account_0_12m  sum_capital_paid_account_12_24m  \\\n",
       "count                     1000.000000                      1000.000000   \n",
       "mean                      9167.188000                      5183.776000   \n",
       "std                      21663.881341                     14058.537222   \n",
       "min                          0.000000                         0.000000   \n",
       "25%                          0.000000                         0.000000   \n",
       "50%                          0.000000                         0.000000   \n",
       "75%                       6785.500000                         0.000000   \n",
       "max                     222749.000000                    110631.000000   \n",
       "\n",
       "       sum_paid_inv_0_12m   time_hours  worst_status_active_inv  \n",
       "count         1000.000000  1000.000000               296.000000  \n",
       "mean         41341.074000    15.342219                 1.138514  \n",
       "std          69218.454542     5.002044                 0.346023  \n",
       "min              0.000000     0.060000                 1.000000  \n",
       "25%           3649.500000    11.712778                 1.000000  \n",
       "50%          16341.500000    15.698611                 1.000000  \n",
       "75%          47048.250000    19.441944                 1.000000  \n",
       "max         648207.000000    23.876667                 2.000000  \n",
       "\n",
       "[8 rows x 38 columns]"
      ]
     },
     "execution_count": 11,
     "metadata": {},
     "output_type": "execute_result"
    }
   ],
   "source": [
    "train_data.describe()"
   ]
  },
  {
   "cell_type": "code",
   "execution_count": 12,
   "metadata": {
    "colab": {
     "base_uri": "https://localhost:8080/"
    },
    "id": "9-jnw9Dd3htZ",
    "outputId": "6488b099-cf8d-42f3-9283-8dea96e70b28"
   },
   "outputs": [
    {
     "name": "stdout",
     "output_type": "stream",
     "text": [
      "<class 'pandas.core.frame.DataFrame'>\n",
      "Int64Index: 1000 entries, 0 to 999\n",
      "Data columns (total 43 columns):\n",
      " #   Column                               Non-Null Count  Dtype  \n",
      "---  ------                               --------------  -----  \n",
      " 0   uuid                                 1000 non-null   object \n",
      " 1   default                              1000 non-null   int64  \n",
      " 2   account_amount_added_12_24m          1000 non-null   int64  \n",
      " 3   account_days_in_dc_12_24m            865 non-null    float64\n",
      " 4   account_days_in_rem_12_24m           865 non-null    float64\n",
      " 5   account_days_in_term_12_24m          865 non-null    float64\n",
      " 6   account_incoming_debt_vs_paid_0_24m  381 non-null    float64\n",
      " 7   account_status                       425 non-null    float64\n",
      " 8   account_worst_status_0_3m            425 non-null    float64\n",
      " 9   account_worst_status_12_24m          312 non-null    float64\n",
      " 10  account_worst_status_3_6m            395 non-null    float64\n",
      " 11  account_worst_status_6_12m           365 non-null    float64\n",
      " 12  age                                  1000 non-null   int64  \n",
      " 13  avg_payment_span_0_12m               777 non-null    float64\n",
      " 14  avg_payment_span_0_3m                540 non-null    float64\n",
      " 15  merchant_category                    1000 non-null   object \n",
      " 16  merchant_group                       1000 non-null   object \n",
      " 17  has_paid                             1000 non-null   bool   \n",
      " 18  max_paid_inv_0_12m                   1000 non-null   int64  \n",
      " 19  max_paid_inv_0_24m                   1000 non-null   int64  \n",
      " 20  name_in_email                        1000 non-null   object \n",
      " 21  num_active_div_by_paid_inv_0_12m     780 non-null    float64\n",
      " 22  num_active_inv                       1000 non-null   int64  \n",
      " 23  num_arch_dc_0_12m                    1000 non-null   int64  \n",
      " 24  num_arch_dc_12_24m                   1000 non-null   int64  \n",
      " 25  num_arch_ok_0_12m                    1000 non-null   int64  \n",
      " 26  num_arch_ok_12_24m                   1000 non-null   int64  \n",
      " 27  num_arch_rem_0_12m                   1000 non-null   int64  \n",
      " 28  num_arch_written_off_0_12m           821 non-null    float64\n",
      " 29  num_arch_written_off_12_24m          821 non-null    float64\n",
      " 30  num_unpaid_bills                     1000 non-null   int64  \n",
      " 31  status_last_archived_0_24m           1000 non-null   int64  \n",
      " 32  status_2nd_last_archived_0_24m       1000 non-null   int64  \n",
      " 33  status_3rd_last_archived_0_24m       1000 non-null   int64  \n",
      " 34  status_max_archived_0_6_months       1000 non-null   int64  \n",
      " 35  status_max_archived_0_12_months      1000 non-null   int64  \n",
      " 36  status_max_archived_0_24_months      1000 non-null   int64  \n",
      " 37  recovery_debt                        1000 non-null   int64  \n",
      " 38  sum_capital_paid_account_0_12m       1000 non-null   int64  \n",
      " 39  sum_capital_paid_account_12_24m      1000 non-null   int64  \n",
      " 40  sum_paid_inv_0_12m                   1000 non-null   int64  \n",
      " 41  time_hours                           1000 non-null   float64\n",
      " 42  worst_status_active_inv              296 non-null    float64\n",
      "dtypes: bool(1), float64(16), int64(22), object(4)\n",
      "memory usage: 336.9+ KB\n"
     ]
    }
   ],
   "source": [
    "train_data.info()"
   ]
  },
  {
   "cell_type": "code",
   "execution_count": 13,
   "metadata": {
    "id": "LhKkP1zyLuPA"
   },
   "outputs": [],
   "source": [
    "cat_columns_from_dataDict = [\"default\",\"account_status\",\"account_worst_status_0_3m\",\"account_worst_status_12_24m\",\"account_worst_status_3_6m\",\n",
    "                       \"account_worst_status_6_12m\",\"merchant_category\",\"merchant_group\",\"has_paid\",\"name_in_email\",\"status_last_archived_0_24m\",\n",
    "                       \"status_2nd_last_archived_0_24m\",\"status_3rd_last_archived_0_24m\",\"status_max_archived_0_6_months\",\"status_max_archived_0_12_months\",\n",
    "                       \"status_max_archived_0_24_months\",\"worst_status_active_inv\"]"
   ]
  },
  {
   "cell_type": "code",
   "execution_count": 14,
   "metadata": {
    "colab": {
     "base_uri": "https://localhost:8080/"
    },
    "id": "RPwsvVyDM6Rg",
    "outputId": "86124a4e-fc55-490f-b77a-bcc36727080f"
   },
   "outputs": [
    {
     "data": {
      "text/plain": [
       "17"
      ]
     },
     "execution_count": 14,
     "metadata": {},
     "output_type": "execute_result"
    }
   ],
   "source": [
    "len(set(cat_columns_from_dataDict))"
   ]
  },
  {
   "cell_type": "code",
   "execution_count": 15,
   "metadata": {
    "colab": {
     "base_uri": "https://localhost:8080/"
    },
    "id": "sd-B3756-rav",
    "outputId": "2f5e0dcd-52cf-4820-92af-874c04e54c38"
   },
   "outputs": [
    {
     "data": {
      "text/plain": [
       "uuid                                     0\n",
       "num_unpaid_bills                         0\n",
       "num_arch_rem_0_12m                       0\n",
       "num_arch_ok_12_24m                       0\n",
       "num_arch_ok_0_12m                        0\n",
       "num_arch_dc_12_24m                       0\n",
       "num_arch_dc_0_12m                        0\n",
       "num_active_inv                           0\n",
       "time_hours                               0\n",
       "name_in_email                            0\n",
       "max_paid_inv_0_24m                       0\n",
       "max_paid_inv_0_12m                       0\n",
       "has_paid                                 0\n",
       "status_last_archived_0_24m               0\n",
       "merchant_category                        0\n",
       "merchant_group                           0\n",
       "status_max_archived_0_6_months           0\n",
       "default                                  0\n",
       "account_amount_added_12_24m              0\n",
       "status_3rd_last_archived_0_24m           0\n",
       "sum_paid_inv_0_12m                       0\n",
       "sum_capital_paid_account_12_24m          0\n",
       "status_2nd_last_archived_0_24m           0\n",
       "recovery_debt                            0\n",
       "status_max_archived_0_24_months          0\n",
       "status_max_archived_0_12_months          0\n",
       "age                                      0\n",
       "sum_capital_paid_account_0_12m           0\n",
       "account_days_in_rem_12_24m             135\n",
       "account_days_in_dc_12_24m              135\n",
       "account_days_in_term_12_24m            135\n",
       "num_arch_written_off_0_12m             179\n",
       "num_arch_written_off_12_24m            179\n",
       "num_active_div_by_paid_inv_0_12m       220\n",
       "avg_payment_span_0_12m                 223\n",
       "avg_payment_span_0_3m                  460\n",
       "account_worst_status_0_3m              575\n",
       "account_status                         575\n",
       "account_worst_status_3_6m              605\n",
       "account_incoming_debt_vs_paid_0_24m    619\n",
       "account_worst_status_6_12m             635\n",
       "account_worst_status_12_24m            688\n",
       "worst_status_active_inv                704\n",
       "dtype: int64"
      ]
     },
     "execution_count": 15,
     "metadata": {},
     "output_type": "execute_result"
    }
   ],
   "source": [
    "train_data.isna().sum().sort_values()"
   ]
  },
  {
   "cell_type": "code",
   "execution_count": 16,
   "metadata": {
    "colab": {
     "base_uri": "https://localhost:8080/"
    },
    "id": "E71HSKvk6Og4",
    "outputId": "122c8279-0eba-48d5-a9fe-69ec35ea63c3"
   },
   "outputs": [
    {
     "data": {
      "text/plain": [
       "worst_status_active_inv                0.704\n",
       "account_worst_status_12_24m            0.688\n",
       "account_worst_status_6_12m             0.635\n",
       "account_incoming_debt_vs_paid_0_24m    0.619\n",
       "account_worst_status_3_6m              0.605\n",
       "account_status                         0.575\n",
       "account_worst_status_0_3m              0.575\n",
       "avg_payment_span_0_3m                  0.460\n",
       "avg_payment_span_0_12m                 0.223\n",
       "num_active_div_by_paid_inv_0_12m       0.220\n",
       "num_arch_written_off_0_12m             0.179\n",
       "num_arch_written_off_12_24m            0.179\n",
       "account_days_in_term_12_24m            0.135\n",
       "account_days_in_rem_12_24m             0.135\n",
       "account_days_in_dc_12_24m              0.135\n",
       "sum_paid_inv_0_12m                     0.000\n",
       "sum_capital_paid_account_12_24m        0.000\n",
       "sum_capital_paid_account_0_12m         0.000\n",
       "recovery_debt                          0.000\n",
       "status_max_archived_0_12_months        0.000\n",
       "status_max_archived_0_6_months         0.000\n",
       "status_3rd_last_archived_0_24m         0.000\n",
       "status_2nd_last_archived_0_24m         0.000\n",
       "status_last_archived_0_24m             0.000\n",
       "num_unpaid_bills                       0.000\n",
       "time_hours                             0.000\n",
       "status_max_archived_0_24_months        0.000\n",
       "num_arch_ok_12_24m                     0.000\n",
       "num_arch_rem_0_12m                     0.000\n",
       "num_arch_ok_0_12m                      0.000\n",
       "num_arch_dc_12_24m                     0.000\n",
       "num_arch_dc_0_12m                      0.000\n",
       "num_active_inv                         0.000\n",
       "default                                0.000\n",
       "name_in_email                          0.000\n",
       "max_paid_inv_0_24m                     0.000\n",
       "max_paid_inv_0_12m                     0.000\n",
       "has_paid                               0.000\n",
       "merchant_group                         0.000\n",
       "merchant_category                      0.000\n",
       "account_amount_added_12_24m            0.000\n",
       "age                                    0.000\n",
       "uuid                                   0.000\n",
       "dtype: float64"
      ]
     },
     "execution_count": 16,
     "metadata": {},
     "output_type": "execute_result"
    }
   ],
   "source": [
    "train_data.isnull().mean().sort_values(ascending=False)"
   ]
  },
  {
   "cell_type": "code",
   "execution_count": 17,
   "metadata": {
    "id": "2n2jK6f33q6w"
   },
   "outputs": [],
   "source": [
    "train_data = train_data.loc[:, train_data.isnull().mean() < .49]"
   ]
  },
  {
   "cell_type": "code",
   "execution_count": 18,
   "metadata": {
    "colab": {
     "base_uri": "https://localhost:8080/"
    },
    "id": "xuSWech_59oS",
    "outputId": "776f2173-1537-4d30-fe67-370285bdc62c"
   },
   "outputs": [
    {
     "data": {
      "text/plain": [
       "(1000, 36)"
      ]
     },
     "execution_count": 18,
     "metadata": {},
     "output_type": "execute_result"
    }
   ],
   "source": [
    "train_data.shape"
   ]
  },
  {
   "cell_type": "code",
   "execution_count": 19,
   "metadata": {
    "id": "FcSSYCyI4qjC"
   },
   "outputs": [],
   "source": [
    "X = train_data.drop(['uuid','default'],axis=1)\n",
    "y = train_data[\"default\"]"
   ]
  },
  {
   "cell_type": "code",
   "execution_count": 20,
   "metadata": {
    "colab": {
     "base_uri": "https://localhost:8080/"
    },
    "id": "hisXWSkB5tvp",
    "outputId": "a0b47d83-4b53-4b52-c6e6-c4015e54a8c5"
   },
   "outputs": [
    {
     "data": {
      "text/plain": [
       "((1000, 34), (1000,))"
      ]
     },
     "execution_count": 20,
     "metadata": {},
     "output_type": "execute_result"
    }
   ],
   "source": [
    "X.shape,y.shape"
   ]
  },
  {
   "cell_type": "code",
   "execution_count": 21,
   "metadata": {
    "colab": {
     "base_uri": "https://localhost:8080/"
    },
    "id": "DI9ne8017XK3",
    "outputId": "bc6bae78-1fa4-47d2-9f58-0069685b8aca"
   },
   "outputs": [
    {
     "data": {
      "text/plain": [
       "avg_payment_span_0_3m               0.460\n",
       "avg_payment_span_0_12m              0.223\n",
       "num_active_div_by_paid_inv_0_12m    0.220\n",
       "num_arch_written_off_12_24m         0.179\n",
       "num_arch_written_off_0_12m          0.179\n",
       "account_days_in_rem_12_24m          0.135\n",
       "account_days_in_term_12_24m         0.135\n",
       "account_days_in_dc_12_24m           0.135\n",
       "num_unpaid_bills                    0.000\n",
       "status_last_archived_0_24m          0.000\n",
       "status_2nd_last_archived_0_24m      0.000\n",
       "status_3rd_last_archived_0_24m      0.000\n",
       "account_amount_added_12_24m         0.000\n",
       "status_max_archived_0_6_months      0.000\n",
       "status_max_archived_0_12_months     0.000\n",
       "recovery_debt                       0.000\n",
       "sum_capital_paid_account_0_12m      0.000\n",
       "sum_capital_paid_account_12_24m     0.000\n",
       "sum_paid_inv_0_12m                  0.000\n",
       "status_max_archived_0_24_months     0.000\n",
       "num_arch_ok_0_12m                   0.000\n",
       "num_arch_rem_0_12m                  0.000\n",
       "num_arch_ok_12_24m                  0.000\n",
       "num_arch_dc_12_24m                  0.000\n",
       "num_arch_dc_0_12m                   0.000\n",
       "num_active_inv                      0.000\n",
       "name_in_email                       0.000\n",
       "max_paid_inv_0_24m                  0.000\n",
       "max_paid_inv_0_12m                  0.000\n",
       "has_paid                            0.000\n",
       "merchant_group                      0.000\n",
       "merchant_category                   0.000\n",
       "age                                 0.000\n",
       "time_hours                          0.000\n",
       "dtype: float64"
      ]
     },
     "execution_count": 21,
     "metadata": {},
     "output_type": "execute_result"
    }
   ],
   "source": [
    "X.isnull().mean().sort_values(ascending=False)"
   ]
  },
  {
   "cell_type": "code",
   "execution_count": 22,
   "metadata": {
    "id": "BitIoKzC7lmg"
   },
   "outputs": [],
   "source": [
    "#!pip install --upgrade pycaret"
   ]
  },
  {
   "cell_type": "code",
   "execution_count": 23,
   "metadata": {
    "colab": {
     "base_uri": "https://localhost:8080/",
     "height": 303
    },
    "id": "hbp3MSLK8QPh",
    "outputId": "555ec492-b0ac-4907-b33b-527dcdf8fdf9"
   },
   "outputs": [
    {
     "data": {
      "text/plain": [
       "<AxesSubplot:xlabel='default'>"
      ]
     },
     "execution_count": 23,
     "metadata": {},
     "output_type": "execute_result"
    },
    {
     "data": {
      "image/png": "[encoded data removed]",
      "text/plain": [
       "<Figure size 432x288 with 1 Axes>"
      ]
     },
     "metadata": {
      "needs_background": "light"
     },
     "output_type": "display_data"
    }
   ],
   "source": [
    "train_data.groupby(['default']).size().plot(kind = \"bar\")"
   ]
  },
  {
   "cell_type": "code",
   "execution_count": 24,
   "metadata": {
    "colab": {
     "base_uri": "https://localhost:8080/"
    },
    "id": "5TnXRlmM9wdT",
    "outputId": "ecb9b9ac-925c-480e-ddc6-7d9be1ec3390"
   },
   "outputs": [
    {
     "data": {
      "text/plain": [
       "0    986\n",
       "1     14\n",
       "Name: default, dtype: int64"
      ]
     },
     "execution_count": 24,
     "metadata": {},
     "output_type": "execute_result"
    }
   ],
   "source": [
    "train_data['default'].value_counts()"
   ]
  },
  {
   "cell_type": "code",
   "execution_count": 25,
   "metadata": {
    "id": "GmjsKyBr-LVe"
   },
   "outputs": [],
   "source": [
    "#from pycaret.classification import setup"
   ]
  },
  {
   "cell_type": "code",
   "execution_count": 26,
   "metadata": {
    "colab": {
     "base_uri": "https://localhost:8080/"
    },
    "id": "f8hKpqSJG5cm",
    "outputId": "97c156e9-07ca-4730-a4b4-7a1ce6c78f39"
   },
   "outputs": [
    {
     "data": {
      "text/plain": [
       "['merchant_category',\n",
       " 'merchant_group',\n",
       " 'has_paid',\n",
       " 'name_in_email',\n",
       " 'status_last_archived_0_24m',\n",
       " 'status_2nd_last_archived_0_24m',\n",
       " 'status_3rd_last_archived_0_24m',\n",
       " 'status_max_archived_0_6_months',\n",
       " 'status_max_archived_0_12_months',\n",
       " 'status_max_archived_0_24_months']"
      ]
     },
     "execution_count": 26,
     "metadata": {},
     "output_type": "execute_result"
    }
   ],
   "source": [
    "categorical_features = [col for col in train_data.columns if (col in cat_columns_from_dataDict and col != \"default\")]\n",
    "categorical_features"
   ]
  },
  {
   "cell_type": "code",
   "execution_count": 27,
   "metadata": {
    "id": "-Kvoy2GLHRpF"
   },
   "outputs": [],
   "source": [
    "#experiment = setup(train_data, target='default', categorical_features=categorical_features) "
   ]
  },
  {
   "cell_type": "code",
   "execution_count": 28,
   "metadata": {
    "colab": {
     "base_uri": "https://localhost:8080/"
    },
    "id": "Ar__rYUaI3Ak",
    "outputId": "56caecf6-aeaa-4b40-e48b-243390cc0f84"
   },
   "outputs": [
    {
     "data": {
      "text/plain": [
       "Index(['account_amount_added_12_24m', 'account_days_in_dc_12_24m',\n",
       "       'account_days_in_rem_12_24m', 'account_days_in_term_12_24m', 'age',\n",
       "       'avg_payment_span_0_12m', 'avg_payment_span_0_3m', 'merchant_category',\n",
       "       'merchant_group', 'has_paid', 'max_paid_inv_0_12m',\n",
       "       'max_paid_inv_0_24m', 'name_in_email',\n",
       "       'num_active_div_by_paid_inv_0_12m', 'num_active_inv',\n",
       "       'num_arch_dc_0_12m', 'num_arch_dc_12_24m', 'num_arch_ok_0_12m',\n",
       "       'num_arch_ok_12_24m', 'num_arch_rem_0_12m',\n",
       "       'num_arch_written_off_0_12m', 'num_arch_written_off_12_24m',\n",
       "       'num_unpaid_bills', 'status_last_archived_0_24m',\n",
       "       'status_2nd_last_archived_0_24m', 'status_3rd_last_archived_0_24m',\n",
       "       'status_max_archived_0_6_months', 'status_max_archived_0_12_months',\n",
       "       'status_max_archived_0_24_months', 'recovery_debt',\n",
       "       'sum_capital_paid_account_0_12m', 'sum_capital_paid_account_12_24m',\n",
       "       'sum_paid_inv_0_12m', 'time_hours'],\n",
       "      dtype='object')"
      ]
     },
     "execution_count": 28,
     "metadata": {},
     "output_type": "execute_result"
    }
   ],
   "source": [
    "X.columns"
   ]
  },
  {
   "cell_type": "code",
   "execution_count": 29,
   "metadata": {
    "colab": {
     "base_uri": "https://localhost:8080/",
     "height": 467
    },
    "id": "5K6-PywGGY-r",
    "outputId": "fb1f01db-06ae-407b-bb2f-aa6a993602c8"
   },
   "outputs": [
    {
     "name": "stdout",
     "output_type": "stream",
     "text": [
      "column name :  merchant_category\n",
      "column name :  merchant_group\n",
      "column name :  has_paid\n",
      "column name :  name_in_email\n",
      "column name :  status_last_archived_0_24m\n",
      "column name :  status_2nd_last_archived_0_24m\n",
      "column name :  status_3rd_last_archived_0_24m\n",
      "column name :  status_max_archived_0_6_months\n",
      "column name :  status_max_archived_0_12_months\n",
      "column name :  status_max_archived_0_24_months\n"
     ]
    }
   ],
   "source": [
    "from sklearn.preprocessing import LabelEncoder,OneHotEncoder\n",
    "#one_hot_encoders = OneHotEncoder(handle_unknown='ignore')\n",
    "le = LabelEncoder()\n",
    "for column in categorical_features:\n",
    "    print(\"column name : \",column)\n",
    "    X[column] = le.fit_transform(X[column])"
   ]
  },
  {
   "cell_type": "code",
   "execution_count": 30,
   "metadata": {},
   "outputs": [
    {
     "data": {
      "text/html": [
       "<div>\n",
       "<style scoped>\n",
       "    .dataframe tbody tr th:only-of-type {\n",
       "        vertical-align: middle;\n",
       "    }\n",
       "\n",
       "    .dataframe tbody tr th {\n",
       "        vertical-align: top;\n",
       "    }\n",
       "\n",
       "    .dataframe thead th {\n",
       "        text-align: right;\n",
       "    }\n",
       "</style>\n",
       "<table border=\"1\" class=\"dataframe\">\n",
       "  <thead>\n",
       "    <tr style=\"text-align: right;\">\n",
       "      <th></th>\n",
       "      <th>account_amount_added_12_24m</th>\n",
       "      <th>account_days_in_dc_12_24m</th>\n",
       "      <th>account_days_in_rem_12_24m</th>\n",
       "      <th>account_days_in_term_12_24m</th>\n",
       "      <th>age</th>\n",
       "      <th>avg_payment_span_0_12m</th>\n",
       "      <th>avg_payment_span_0_3m</th>\n",
       "      <th>merchant_category</th>\n",
       "      <th>merchant_group</th>\n",
       "      <th>has_paid</th>\n",
       "      <th>...</th>\n",
       "      <th>status_2nd_last_archived_0_24m</th>\n",
       "      <th>status_3rd_last_archived_0_24m</th>\n",
       "      <th>status_max_archived_0_6_months</th>\n",
       "      <th>status_max_archived_0_12_months</th>\n",
       "      <th>status_max_archived_0_24_months</th>\n",
       "      <th>recovery_debt</th>\n",
       "      <th>sum_capital_paid_account_0_12m</th>\n",
       "      <th>sum_capital_paid_account_12_24m</th>\n",
       "      <th>sum_paid_inv_0_12m</th>\n",
       "      <th>time_hours</th>\n",
       "    </tr>\n",
       "  </thead>\n",
       "  <tbody>\n",
       "    <tr>\n",
       "      <th>0</th>\n",
       "      <td>0</td>\n",
       "      <td>0.0</td>\n",
       "      <td>0.0</td>\n",
       "      <td>0.0</td>\n",
       "      <td>20</td>\n",
       "      <td>12.692308</td>\n",
       "      <td>8.333333</td>\n",
       "      <td>10</td>\n",
       "      <td>7</td>\n",
       "      <td>1</td>\n",
       "      <td>...</td>\n",
       "      <td>1</td>\n",
       "      <td>1</td>\n",
       "      <td>1</td>\n",
       "      <td>1</td>\n",
       "      <td>1</td>\n",
       "      <td>0</td>\n",
       "      <td>0</td>\n",
       "      <td>0</td>\n",
       "      <td>178839</td>\n",
       "      <td>9.653333</td>\n",
       "    </tr>\n",
       "    <tr>\n",
       "      <th>1</th>\n",
       "      <td>0</td>\n",
       "      <td>0.0</td>\n",
       "      <td>0.0</td>\n",
       "      <td>0.0</td>\n",
       "      <td>50</td>\n",
       "      <td>25.833333</td>\n",
       "      <td>25.000000</td>\n",
       "      <td>3</td>\n",
       "      <td>4</td>\n",
       "      <td>1</td>\n",
       "      <td>...</td>\n",
       "      <td>1</td>\n",
       "      <td>1</td>\n",
       "      <td>1</td>\n",
       "      <td>2</td>\n",
       "      <td>2</td>\n",
       "      <td>0</td>\n",
       "      <td>0</td>\n",
       "      <td>0</td>\n",
       "      <td>49014</td>\n",
       "      <td>13.181389</td>\n",
       "    </tr>\n",
       "    <tr>\n",
       "      <th>2</th>\n",
       "      <td>0</td>\n",
       "      <td>0.0</td>\n",
       "      <td>0.0</td>\n",
       "      <td>0.0</td>\n",
       "      <td>22</td>\n",
       "      <td>20.000000</td>\n",
       "      <td>18.000000</td>\n",
       "      <td>17</td>\n",
       "      <td>4</td>\n",
       "      <td>1</td>\n",
       "      <td>...</td>\n",
       "      <td>1</td>\n",
       "      <td>1</td>\n",
       "      <td>1</td>\n",
       "      <td>2</td>\n",
       "      <td>2</td>\n",
       "      <td>0</td>\n",
       "      <td>0</td>\n",
       "      <td>0</td>\n",
       "      <td>124839</td>\n",
       "      <td>11.561944</td>\n",
       "    </tr>\n",
       "    <tr>\n",
       "      <th>3</th>\n",
       "      <td>0</td>\n",
       "      <td>NaN</td>\n",
       "      <td>NaN</td>\n",
       "      <td>NaN</td>\n",
       "      <td>36</td>\n",
       "      <td>4.687500</td>\n",
       "      <td>4.888889</td>\n",
       "      <td>17</td>\n",
       "      <td>4</td>\n",
       "      <td>1</td>\n",
       "      <td>...</td>\n",
       "      <td>1</td>\n",
       "      <td>1</td>\n",
       "      <td>1</td>\n",
       "      <td>1</td>\n",
       "      <td>1</td>\n",
       "      <td>0</td>\n",
       "      <td>0</td>\n",
       "      <td>0</td>\n",
       "      <td>324676</td>\n",
       "      <td>15.751111</td>\n",
       "    </tr>\n",
       "    <tr>\n",
       "      <th>4</th>\n",
       "      <td>0</td>\n",
       "      <td>0.0</td>\n",
       "      <td>0.0</td>\n",
       "      <td>0.0</td>\n",
       "      <td>25</td>\n",
       "      <td>13.000000</td>\n",
       "      <td>13.000000</td>\n",
       "      <td>19</td>\n",
       "      <td>3</td>\n",
       "      <td>1</td>\n",
       "      <td>...</td>\n",
       "      <td>0</td>\n",
       "      <td>0</td>\n",
       "      <td>1</td>\n",
       "      <td>1</td>\n",
       "      <td>1</td>\n",
       "      <td>0</td>\n",
       "      <td>0</td>\n",
       "      <td>0</td>\n",
       "      <td>7100</td>\n",
       "      <td>12.698611</td>\n",
       "    </tr>\n",
       "  </tbody>\n",
       "</table>\n",
       "<p>5 rows × 34 columns</p>\n",
       "</div>"
      ],
      "text/plain": [
       "   account_amount_added_12_24m  account_days_in_dc_12_24m  \\\n",
       "0                            0                        0.0   \n",
       "1                            0                        0.0   \n",
       "2                            0                        0.0   \n",
       "3                            0                        NaN   \n",
       "4                            0                        0.0   \n",
       "\n",
       "   account_days_in_rem_12_24m  account_days_in_term_12_24m  age  \\\n",
       "0                         0.0                          0.0   20   \n",
       "1                         0.0                          0.0   50   \n",
       "2                         0.0                          0.0   22   \n",
       "3                         NaN                          NaN   36   \n",
       "4                         0.0                          0.0   25   \n",
       "\n",
       "   avg_payment_span_0_12m  avg_payment_span_0_3m  merchant_category  \\\n",
       "0               12.692308               8.333333                 10   \n",
       "1               25.833333              25.000000                  3   \n",
       "2               20.000000              18.000000                 17   \n",
       "3                4.687500               4.888889                 17   \n",
       "4               13.000000              13.000000                 19   \n",
       "\n",
       "   merchant_group  has_paid  ...  status_2nd_last_archived_0_24m  \\\n",
       "0               7         1  ...                               1   \n",
       "1               4         1  ...                               1   \n",
       "2               4         1  ...                               1   \n",
       "3               4         1  ...                               1   \n",
       "4               3         1  ...                               0   \n",
       "\n",
       "   status_3rd_last_archived_0_24m  status_max_archived_0_6_months  \\\n",
       "0                               1                               1   \n",
       "1                               1                               1   \n",
       "2                               1                               1   \n",
       "3                               1                               1   \n",
       "4                               0                               1   \n",
       "\n",
       "   status_max_archived_0_12_months  status_max_archived_0_24_months  \\\n",
       "0                                1                                1   \n",
       "1                                2                                2   \n",
       "2                                2                                2   \n",
       "3                                1                                1   \n",
       "4                                1                                1   \n",
       "\n",
       "   recovery_debt  sum_capital_paid_account_0_12m  \\\n",
       "0              0                               0   \n",
       "1              0                               0   \n",
       "2              0                               0   \n",
       "3              0                               0   \n",
       "4              0                               0   \n",
       "\n",
       "   sum_capital_paid_account_12_24m  sum_paid_inv_0_12m  time_hours  \n",
       "0                                0              178839    9.653333  \n",
       "1                                0               49014   13.181389  \n",
       "2                                0              124839   11.561944  \n",
       "3                                0              324676   15.751111  \n",
       "4                                0                7100   12.698611  \n",
       "\n",
       "[5 rows x 34 columns]"
      ]
     },
     "execution_count": 30,
     "metadata": {},
     "output_type": "execute_result"
    }
   ],
   "source": [
    "X.head(5)"
   ]
  },
  {
   "cell_type": "code",
   "execution_count": 31,
   "metadata": {
    "id": "VVdp6TY8Bchh"
   },
   "outputs": [],
   "source": [
    "from sklearn.model_selection import train_test_split"
   ]
  },
  {
   "cell_type": "code",
   "execution_count": 32,
   "metadata": {
    "id": "6iMeUxdYB2LL"
   },
   "outputs": [
    {
     "data": {
      "text/plain": [
       "((700, 34), (300, 34))"
      ]
     },
     "execution_count": 32,
     "metadata": {},
     "output_type": "execute_result"
    }
   ],
   "source": [
    "X_train, X_test, y_train, y_test = train_test_split(X, y, train_size=0.7, random_state=42)\n",
    "X_train.shape, X_test.shape"
   ]
  },
  {
   "cell_type": "code",
   "execution_count": 33,
   "metadata": {
    "id": "AyrzFWSTCmwX"
   },
   "outputs": [],
   "source": [
    "from sklearn.ensemble import RandomForestClassifier"
   ]
  },
  {
   "cell_type": "code",
   "execution_count": null,
   "metadata": {
    "id": "m8XOysgvCo5v"
   },
   "outputs": [],
   "source": [
    "classifier_rf = RandomForestClassifier(random_state=42, n_jobs=-1, max_depth=5,\n",
    "                                       n_estimators=100, oob_score=True)"
   ]
  },
  {
   "cell_type": "code",
   "execution_count": null,
   "metadata": {
    "id": "AR9lm13rCwsF"
   },
   "outputs": [],
   "source": [
    "%%time\n",
    "classifier_rf.fit(X_train, y_train)"
   ]
  }
 ],
 "metadata": {
  "accelerator": "GPU",
  "colab": {
   "collapsed_sections": [],
   "name": "defaulter_prediction.ipynb",
   "provenance": []
  },
  "kernelspec": {
   "display_name": "Python 3 (ipykernel)",
   "language": "python",
   "name": "python3"
  },
  "language_info": {
   "codemirror_mode": {
    "name": "ipython",
    "version": 3
   },
   "file_extension": ".py",
   "mimetype": "text/x-python",
   "name": "python",
   "nbconvert_exporter": "python",
   "pygments_lexer": "ipython3",
   "version": "3.7.11"
  }
 },
 "nbformat": 4,
 "nbformat_minor": 1
}
